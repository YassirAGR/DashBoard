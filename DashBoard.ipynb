{
 "cells": [
  {
   "cell_type": "code",
   "execution_count": 1,
   "id": "d5d5ace0-8329-4fbc-9959-0fb9714cf1d4",
   "metadata": {},
   "outputs": [],
   "source": [
    "#!pip install dash jupyter-dash"
   ]
  },
  {
   "cell_type": "code",
   "execution_count": 2,
   "id": "63bcd84d-64a7-49e9-b7dd-e6eec39896d4",
   "metadata": {
    "scrolled": true
   },
   "outputs": [],
   "source": [
    "#!pip install yfinance"
   ]
  },
  {
   "cell_type": "code",
   "execution_count": 3,
   "id": "7423f9d1-2f12-43e1-bd2b-75c223026204",
   "metadata": {},
   "outputs": [],
   "source": [
    "from jupyter_dash import JupyterDash\n",
    "from dash import dcc, html, Input, Output\n",
    "import yfinance as yf  \n",
    "import plotly.express as px"
   ]
  },
  {
   "cell_type": "code",
   "execution_count": 4,
   "id": "02490270-20a3-4b8c-8864-a07d947c909e",
   "metadata": {},
   "outputs": [
    {
     "name": "stderr",
     "output_type": "stream",
     "text": [
      "C:\\Users\\yassir.amegarou\\.conda\\envs\\Anaconda_Updated\\lib\\site-packages\\dash\\dash.py:556: UserWarning:\n",
      "\n",
      "JupyterDash is deprecated, use Dash instead.\n",
      "See https://dash.plotly.com/dash-in-jupyter for more details.\n",
      "\n"
     ]
    }
   ],
   "source": [
    "app = JupyterDash(__name__)"
   ]
  },
  {
   "cell_type": "code",
   "execution_count": 5,
   "id": "7e6fe0dc-3891-4964-8c09-e7ea6e0931d7",
   "metadata": {},
   "outputs": [],
   "source": [
    "app.layout = html.Div([\n",
    "\thtml.H1(\"Stock Price Analysis Dashboard\"),\n",
    "\t\n",
    "\thtml.Label(\"Select Stock Symbol:\"),\n",
    "\tdcc.Dropdown(\n",
    "\t\tid='stock-selector',\n",
    "\t\toptions=[\n",
    "\t\t\t{'label': 'AAPL', 'value': 'AAPL'},\n",
    "\t\t\t{'label': 'GOOGL', 'value': 'GOOGL'},\n",
    "\t\t\t{'label': 'MSFT', 'value': 'MSFT'},\n",
    "\t\t],\n",
    "\t\tvalue='AAPL'\n",
    "\t),\n",
    "\t\n",
    "\tdcc.Graph(id='stock-price-chart'),\n",
    "])"
   ]
  },
  {
   "cell_type": "code",
   "execution_count": 6,
   "id": "483b1bb7-c559-4292-8c09-e72e5c8f33a0",
   "metadata": {},
   "outputs": [],
   "source": [
    "@app.callback(\n",
    "\tOutput('stock-price-chart', 'figure'),\n",
    "\t[Input('stock-selector', 'value')]\n",
    ")\n",
    "def update_chart(selected_stock):\n",
    "\tstock_data = yf.download(selected_stock, start='2022-01-01',\n",
    "\t\t\t\t\t\t\tend='2023-01-01')\n",
    "\tfig = px.line(stock_data, x=stock_data.index, y='Close',\n",
    "\t\t\t\ttitle=f'{selected_stock} Stock Price Analysis')\n",
    "\treturn fig"
   ]
  },
  {
   "cell_type": "code",
   "execution_count": 7,
   "id": "dc46bec3-824a-4da8-b21c-88932e1a4337",
   "metadata": {},
   "outputs": [
    {
     "data": {
      "text/html": [
       "\n",
       "        <iframe\n",
       "            width=\"100%\"\n",
       "            height=\"650\"\n",
       "            src=\"http://127.0.0.1:8050/\"\n",
       "            frameborder=\"0\"\n",
       "            allowfullscreen\n",
       "            \n",
       "        ></iframe>\n",
       "        "
      ],
      "text/plain": [
       "<IPython.lib.display.IFrame at 0x22d9f201df0>"
      ]
     },
     "metadata": {},
     "output_type": "display_data"
    },
    {
     "name": "stdout",
     "output_type": "stream",
     "text": [
      "Dash app running on http://127.0.0.1:8050/\n"
     ]
    }
   ],
   "source": [
    "if __name__ == '__main__':\n",
    "\tapp.run_server(port=8050, mode='external')"
   ]
  },
  {
   "cell_type": "code",
   "execution_count": null,
   "id": "8298e488-aa89-4afa-98df-f096db91e637",
   "metadata": {},
   "outputs": [],
   "source": []
  }
 ],
 "metadata": {
  "kernelspec": {
   "display_name": "Python 3 (ipykernel)",
   "language": "python",
   "name": "python3"
  },
  "language_info": {
   "codemirror_mode": {
    "name": "ipython",
    "version": 3
   },
   "file_extension": ".py",
   "mimetype": "text/x-python",
   "name": "python",
   "nbconvert_exporter": "python",
   "pygments_lexer": "ipython3",
   "version": "3.9.19"
  }
 },
 "nbformat": 4,
 "nbformat_minor": 5
}
